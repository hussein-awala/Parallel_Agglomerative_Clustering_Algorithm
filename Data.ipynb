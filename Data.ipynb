{
 "cells": [
  {
   "cell_type": "code",
   "execution_count": 1,
   "metadata": {},
   "outputs": [],
   "source": [
    "from sklearn.datasets import make_blobs\n",
    "import matplotlib.pyplot as plt\n",
    "import numpy as np"
   ]
  },
  {
   "cell_type": "markdown",
   "metadata": {},
   "source": [
    "# Data"
   ]
  },
  {
   "cell_type": "markdown",
   "metadata": {},
   "source": [
    "### Generation ( 4 clusters with 3 features)"
   ]
  },
  {
   "cell_type": "code",
   "execution_count": 5,
   "metadata": {},
   "outputs": [],
   "source": [
    "# generate examples with features and ground truth\n",
    "features, ground_truth = make_blobs(n_samples = 30,\n",
    "                  n_features = 2,\n",
    "                  centers = 4,\n",
    "                  cluster_std = 0.2,\n",
    "                  shuffle = True)"
   ]
  },
  {
   "cell_type": "markdown",
   "metadata": {},
   "source": [
    "### Visualization"
   ]
  },
  {
   "cell_type": "code",
   "execution_count": 8,
   "metadata": {},
   "outputs": [
    {
     "data": {
      "image/png": "[encoded data removed]",
      "text/plain": [
       "<Figure size 432x288 with 1 Axes>"
      ]
     },
     "metadata": {
      "needs_background": "light"
     },
     "output_type": "display_data"
    }
   ],
   "source": [
    "# Create a scatterplot of first two features\n",
    "plt.scatter(features[:,0],\n",
    "            features[:,1], c = ground_truth)\n",
    "\n",
    "# View scatterplot\n",
    "plt.show()"
   ]
  },
  {
   "cell_type": "markdown",
   "metadata": {},
   "source": [
    "### Save"
   ]
  },
  {
   "cell_type": "code",
   "execution_count": 7,
   "metadata": {},
   "outputs": [],
   "source": [
    "np.save('features2', features)\n",
    "np.save('ground_truth2', ground_truth)"
   ]
  },
  {
   "cell_type": "code",
   "execution_count": 25,
   "metadata": {},
   "outputs": [
    {
     "name": "stdout",
     "output_type": "stream",
     "text": [
      "20 2\n",
      "20 100\n",
      "20 1000\n",
      "20 1000000\n",
      "30 2\n",
      "30 100\n",
      "30 1000\n",
      "30 1000000\n",
      "50 2\n",
      "50 100\n",
      "50 1000\n",
      "50 1000000\n",
      "100 2\n",
      "100 100\n",
      "100 1000\n",
      "100 1000000\n"
     ]
    }
   ],
   "source": [
    "sizes = [20, 30, 50, 100]\n",
    "features_sizes = [2, 100, 1000, 1000000]\n",
    "for i in sizes:\n",
    "    for j in features_sizes:\n",
    "        print(i,j)\n",
    "        features, ground_truth = make_blobs(n_samples = i,\n",
    "                  n_features = j,\n",
    "                  centers = 4,\n",
    "                  cluster_std = 0.2,\n",
    "                  shuffle = True)\n",
    "        np.save('data/features_{}_{}'.format(i,j), features)\n",
    "        np.save('data/ground_truth_{}_{}'.format(i,j), ground_truth)"
   ]
  },
  {
   "cell_type": "code",
   "execution_count": 26,
   "metadata": {},
   "outputs": [],
   "source": [
    "features = np.load('data/features_20_2.npy')\n",
    "ground_truth = np.load('data/ground_truth_20_2.npy')"
   ]
  },
  {
   "cell_type": "code",
   "execution_count": 27,
   "metadata": {},
   "outputs": [
    {
     "data": {
      "image/png": "[encoded data removed]",
      "text/plain": [
       "<Figure size 432x288 with 1 Axes>"
      ]
     },
     "metadata": {
      "needs_background": "light"
     },
     "output_type": "display_data"
    }
   ],
   "source": [
    "# Create a scatterplot of first two features\n",
    "plt.scatter(features[:,0],\n",
    "            features[:,1], c = ground_truth)\n",
    "\n",
    "# View scatterplot\n",
    "plt.savefig('plots/plot_features_20_2.png')\n",
    "plt.show()\n"
   ]
  },
  {
   "cell_type": "code",
   "execution_count": null,
   "metadata": {},
   "outputs": [],
   "source": []
  }
 ],
 "metadata": {
  "kernelspec": {
   "display_name": "Python 3",
   "language": "python",
   "name": "python3"
  },
  "language_info": {
   "codemirror_mode": {
    "name": "ipython",
    "version": 3
   },
   "file_extension": ".py",
   "mimetype": "text/x-python",
   "name": "python",
   "nbconvert_exporter": "python",
   "pygments_lexer": "ipython3",
   "version": "3.6.8"
  }
 },
 "nbformat": 4,
 "nbformat_minor": 2
}
